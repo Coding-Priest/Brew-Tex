{
 "cells": [
  {
   "cell_type": "code",
   "execution_count": 1,
   "metadata": {},
   "outputs": [],
   "source": [
    "import numpy as np\n",
    "import pandas as pd\n",
    "import matplotlib.pyplot as plt\n",
    "import os\n",
    "from PIL import Image\n",
    "import torch\n",
    "import cv2\n",
    "from skimage import io, img_as_ubyte\n",
    "from skimage.color import rgb2gray\n",
    "from skimage.filters import threshold_sauvola\n",
    "import imageio\n",
    "import imgaug as ia\n",
    "import imgaug.augmenters as iaa\n",
    "import json\n",
    "from PIL import Image, ImageFont, ImageDraw\n",
    "from glob import glob\n",
    "import matplotlib.patches as patches"
   ]
  },
  {
   "cell_type": "markdown",
   "metadata": {},
   "source": [
    "## Collecting Annotations"
   ]
  },
  {
   "cell_type": "code",
   "execution_count": 2,
   "metadata": {},
   "outputs": [
    {
     "ename": "FileNotFoundError",
     "evalue": "[Errno 2] No such file or directory: '/home/voyagerani/Desktop/BrewTex/Datasets/labels/publaynet/train.json'",
     "output_type": "error",
     "traceback": [
      "\u001b[0;31m---------------------------------------------------------------------------\u001b[0m",
      "\u001b[0;31mFileNotFoundError\u001b[0m                         Traceback (most recent call last)",
      "Cell \u001b[0;32mIn[2], line 1\u001b[0m\n\u001b[0;32m----> 1\u001b[0m \u001b[38;5;28;01mwith\u001b[39;00m \u001b[38;5;28;43mopen\u001b[39;49m\u001b[43m(\u001b[49m\u001b[38;5;124;43m'\u001b[39;49m\u001b[38;5;124;43m/home/voyagerani/Desktop/BrewTex/Datasets/labels/publaynet/train.json\u001b[39;49m\u001b[38;5;124;43m'\u001b[39;49m\u001b[43m,\u001b[49m\u001b[43m \u001b[49m\u001b[38;5;124;43m'\u001b[39;49m\u001b[38;5;124;43mr\u001b[39;49m\u001b[38;5;124;43m'\u001b[39;49m\u001b[43m)\u001b[49m \u001b[38;5;28;01mas\u001b[39;00m f:\n\u001b[1;32m      2\u001b[0m     samples \u001b[38;5;241m=\u001b[39m json\u001b[38;5;241m.\u001b[39mload(f)\n",
      "File \u001b[0;32m~/.local/lib/python3.8/site-packages/IPython/core/interactiveshell.py:284\u001b[0m, in \u001b[0;36m_modified_open\u001b[0;34m(file, *args, **kwargs)\u001b[0m\n\u001b[1;32m    277\u001b[0m \u001b[38;5;28;01mif\u001b[39;00m file \u001b[38;5;129;01min\u001b[39;00m {\u001b[38;5;241m0\u001b[39m, \u001b[38;5;241m1\u001b[39m, \u001b[38;5;241m2\u001b[39m}:\n\u001b[1;32m    278\u001b[0m     \u001b[38;5;28;01mraise\u001b[39;00m \u001b[38;5;167;01mValueError\u001b[39;00m(\n\u001b[1;32m    279\u001b[0m         \u001b[38;5;124mf\u001b[39m\u001b[38;5;124m\"\u001b[39m\u001b[38;5;124mIPython won\u001b[39m\u001b[38;5;124m'\u001b[39m\u001b[38;5;124mt let you open fd=\u001b[39m\u001b[38;5;132;01m{\u001b[39;00mfile\u001b[38;5;132;01m}\u001b[39;00m\u001b[38;5;124m by default \u001b[39m\u001b[38;5;124m\"\u001b[39m\n\u001b[1;32m    280\u001b[0m         \u001b[38;5;124m\"\u001b[39m\u001b[38;5;124mas it is likely to crash IPython. If you know what you are doing, \u001b[39m\u001b[38;5;124m\"\u001b[39m\n\u001b[1;32m    281\u001b[0m         \u001b[38;5;124m\"\u001b[39m\u001b[38;5;124myou can use builtins\u001b[39m\u001b[38;5;124m'\u001b[39m\u001b[38;5;124m open.\u001b[39m\u001b[38;5;124m\"\u001b[39m\n\u001b[1;32m    282\u001b[0m     )\n\u001b[0;32m--> 284\u001b[0m \u001b[38;5;28;01mreturn\u001b[39;00m \u001b[43mio_open\u001b[49m\u001b[43m(\u001b[49m\u001b[43mfile\u001b[49m\u001b[43m,\u001b[49m\u001b[43m \u001b[49m\u001b[38;5;241;43m*\u001b[39;49m\u001b[43margs\u001b[49m\u001b[43m,\u001b[49m\u001b[43m \u001b[49m\u001b[38;5;241;43m*\u001b[39;49m\u001b[38;5;241;43m*\u001b[39;49m\u001b[43mkwargs\u001b[49m\u001b[43m)\u001b[49m\n",
      "\u001b[0;31mFileNotFoundError\u001b[0m: [Errno 2] No such file or directory: '/home/voyagerani/Desktop/BrewTex/Datasets/labels/publaynet/train.json'"
     ]
    }
   ],
   "source": [
    "with open('/home/voyagerani/Desktop/BrewTex/Datasets/labels/publaynet/train.json', 'r') as f:\n",
    "    samples = json.load(f)"
   ]
  },
  {
   "cell_type": "code",
   "execution_count": 52,
   "metadata": {},
   "outputs": [
    {
     "name": "stdout",
     "output_type": "stream",
     "text": [
      "{'file_name': 'PMC3866684_00003.jpg', 'height': 811, 'id': 0, 'width': 613}\n",
      "{'segmentation': [[52.38, 444.87, 291.97, 444.87, 291.97, 456.42, 291.97, 456.42, 291.97, 465.8, 291.97, 465.8, 291.97, 476.27, 291.97, 476.27, 291.97, 487.8, 291.97, 487.8, 291.97, 498.26, 86.41, 498.26, 86.41, 508.73, 40.42, 508.73, 40.42, 497.17, 40.42, 497.17, 40.42, 486.71, 40.42, 486.71, 40.42, 476.27, 40.42, 476.27, 40.42, 466.88, 40.42, 466.88, 40.42, 455.33, 52.38, 455.33, 52.38, 444.87]], 'area': 13787.433082525036, 'iscrowd': 0, 'image_id': 0, 'bbox': [40.42, 444.87, 251.55, 63.86], 'category_id': 1, 'id': 0}\n",
      "{'supercategory': '', 'id': 1, 'name': 'text'}\n"
     ]
    }
   ],
   "source": [
    "print(samples['images'][0])\n",
    "print(samples['annotations'][0])\n",
    "print(samples['categories'][0])"
   ]
  },
  {
   "cell_type": "markdown",
   "metadata": {},
   "source": [
    "## Visualising Annotations"
   ]
  },
  {
   "cell_type": "code",
   "execution_count": 23,
   "metadata": {},
   "outputs": [],
   "source": [
    "# Define color code\n",
    "colors = {'title': (255, 0, 0),\n",
    "          'text': (0, 255, 0),\n",
    "          'figure': (0, 0, 255),\n",
    "          'table': (255, 255, 0),\n",
    "          'list': (0, 255, 255)}\n",
    "font = ImageFont.load_default()"
   ]
  },
  {
   "cell_type": "code",
   "execution_count": 24,
   "metadata": {},
   "outputs": [
    {
     "name": "stdout",
     "output_type": "stream",
     "text": [
      "[{'segmentation': [[52.38, 444.87, 291.97, 444.87, 291.97, 456.42, 291.97, 456.42, 291.97, 465.8, 291.97, 465.8, 291.97, 476.27, 291.97, 476.27, 291.97, 487.8, 291.97, 487.8, 291.97, 498.26, 86.41, 498.26, 86.41, 508.73, 40.42, 508.73, 40.42, 497.17, 40.42, 497.17, 40.42, 486.71, 40.42, 486.71, 40.42, 476.27, 40.42, 476.27, 40.42, 466.88, 40.42, 466.88, 40.42, 455.33, 52.38, 455.33, 52.38, 444.87]], 'area': 13787.433082525036, 'iscrowd': 0, 'image_id': 0, 'bbox': [40.42, 444.87, 251.55, 63.86], 'category_id': 1, 'id': 0}, {'segmentation': [[309.91, 444.91, 561.46, 444.91, 561.46, 456.42, 345.43, 456.42, 345.43, 466.88, 309.91, 466.88, 309.91, 456.42, 309.91, 456.42, 309.91, 444.91]], 'area': 3266.252633666969, 'iscrowd': 0, 'image_id': 0, 'bbox': [309.91, 444.91, 251.55, 21.97], 'category_id': 1, 'id': 1}, {'segmentation': [[52.38, 507.66, 291.97, 507.66, 291.97, 519.19, 291.97, 519.19, 291.97, 529.65, 291.97, 529.65, 291.97, 540.11, 40.42, 540.11, 40.42, 528.56, 40.42, 528.56, 40.42, 518.1, 52.38, 518.1, 52.38, 507.66]], 'area': 8037.095046702656, 'iscrowd': 0, 'image_id': 0, 'bbox': [40.42, 507.66, 251.55, 32.45], 'category_id': 1, 'id': 2}, {'segmentation': [[321.87, 465.8, 561.46, 465.8, 561.46, 477.34, 561.46, 477.34, 561.46, 486.71, 561.46, 486.71, 561.46, 498.26, 561.46, 498.26, 561.46, 508.73, 561.46, 508.73, 561.46, 519.19, 561.46, 519.19, 561.46, 529.65, 561.46, 529.65, 561.46, 540.11, 309.91, 540.11, 309.91, 529.65, 309.91, 529.65, 309.91, 518.09, 309.91, 518.09, 309.91, 507.63, 309.91, 507.63, 309.91, 497.18, 309.91, 497.18, 309.91, 487.8, 309.91, 487.8, 309.91, 476.26, 321.87, 476.26, 321.87, 465.8]], 'area': 18566.00016906159, 'iscrowd': 0, 'image_id': 0, 'bbox': [309.91, 465.8, 251.55, 74.3], 'category_id': 1, 'id': 3}, {'segmentation': [[40.42, 397.09, 561.44, 397.09, 561.44, 405.57, 561.44, 405.57, 561.44, 414.78, 561.44, 414.78, 561.44, 423.35, 443.73, 423.35, 443.73, 431.92, 40.42, 431.92, 40.42, 422.7, 40.42, 422.7, 40.42, 414.78, 40.42, 414.78, 40.42, 405.57, 40.42, 405.57, 40.42, 397.09]], 'area': 17140.38018086704, 'iscrowd': 0, 'image_id': 0, 'bbox': [40.42, 397.09, 521.02, 34.83], 'category_id': 1, 'id': 4}, {'segmentation': [[40.42, 569.85, 561.44, 569.85, 561.44, 579.09, 76.16, 579.09, 76.16, 587.66, 40.42, 587.66, 40.42, 578.53, 40.42, 578.53, 40.42, 569.85]], 'area': 5122.1154595029075, 'iscrowd': 0, 'image_id': 0, 'bbox': [40.42, 569.85, 521.02, 17.81], 'category_id': 1, 'id': 5}, {'segmentation': [[40.42, 591.95, 561.47, 591.95, 561.47, 753.25, 40.42, 753.25, 40.42, 591.95]], 'area': 84042.63561600004, 'iscrowd': 0, 'image_id': 0, 'bbox': [40.42, 591.95, 521.05, 161.3], 'category_id': 4, 'id': 6}, {'segmentation': [[40.42, 561.19, 63.16, 561.19, 63.16, 570.52, 40.42, 570.52, 40.42, 561.19]], 'area': 212.07894347510592, 'iscrowd': 0, 'image_id': 0, 'bbox': [40.42, 561.19, 22.74, 9.33], 'category_id': 2, 'id': 7}, {'segmentation': [[120.94, 55.57, 480.94, 55.57, 480.94, 392.77, 120.94, 392.77, 120.94, 55.57]], 'area': 121394.99978910788, 'iscrowd': 0, 'image_id': 0, 'bbox': [120.94, 55.57, 360.0, 337.21], 'category_id': 5, 'id': 8}]\n"
     ]
    }
   ],
   "source": [
    "image_id = samples['images'][0]['id']\n",
    "# print(image_id)\n",
    "\n",
    "annotation_id = samples['annotations'][0]['image_id']\n",
    "# print(annotation_id)\n",
    "\n",
    "annotations_for_image = [annotation for annotation in samples['annotations'] if annotation['image_id'] == image_id]\n",
    "\n",
    "# print(annotations_for_image)\n",
    "print(annotations_for_image)"
   ]
  },
  {
   "cell_type": "code",
   "execution_count": 53,
   "metadata": {},
   "outputs": [],
   "source": [
    "def draw_annotations(image_path, annotations_for_image):\n",
    "    #{[seg, area, iscrowd0, image_id0, bbox], [seg, area, iscrowd0, image_id0, bbox]....}\n",
    "    image = Image.open(image_path)\n",
    "    image = image.convert('RGBA')\n",
    "\n",
    "\n",
    "    draw = ImageDraw.Draw(image, 'RGBA')\n",
    "\n",
    "    for annotation in annotations_for_image:\n",
    "        draw.polygon(annotation['segmentation'][0], fill=(0, 255, 0, 20))  # Green with ~20% opacity\n",
    "        # bbox = annotation['bbox']\n",
    "        # rect = patches.Rectangle((bbox[0], bbox[1]), bbox[2], bbox[3], linewidth=1, edgecolor='r', facecolor='none')\n",
    "        # ax.add_patch(rect)\n",
    "    \n",
    "    fig, ax = plt.subplots(1)\n",
    "    ax.imshow(image)\n",
    "    plt.show()\n"
   ]
  },
  {
   "cell_type": "code",
   "execution_count": 54,
   "metadata": {},
   "outputs": [
    {
     "data": {
      "image/png": "[encoded data removed]",
      "text/plain": [
       "<Figure size 640x480 with 1 Axes>"
      ]
     },
     "metadata": {},
     "output_type": "display_data"
    }
   ],
   "source": [
    "image_path = '/home/voyagerani/Desktop/BrewTex/AI model/Image augmentation/img1.jpg'\n",
    "draw_annotations(image_path, annotations_for_image)\n",
    "# cv2.imwrite('/home/voyagerani/Desktop/BrewTex/AI model/Image augmentation/img11.jpg', test_image)"
   ]
  },
  {
   "cell_type": "code",
   "execution_count": 17,
   "metadata": {},
   "outputs": [],
   "source": [
    "def img_to_numpy(file_path):\n",
    "    img = cv2.imread(file_path)\n",
    "    return np.array(img)\n",
    "\n",
    "def adaptive_mean_threshold(file_path):\n",
    "    img = img_to_numpy(file_path)\n",
    "    img_gray = cv2.cvtColor(img, cv2.COLOR_BGR2GRAY)\n",
    "    thresh = cv2.adaptiveThreshold(img_gray, 255, cv2.ADAPTIVE_THRESH_MEAN_C, \n",
    "                                          cv2.THRESH_BINARY, 199, 5)\n",
    "    return thresh\n",
    "\n",
    "def Normalise_images(file_path):\n",
    "    thresh = adaptive_mean_threshold(file_path)\n",
    "    normalized_thresh = cv2.normalize(thresh, None, alpha=0, beta=1, norm_type=cv2.NORM_MINMAX, dtype=cv2.CV_32F)\n",
    "    return normalized_thresh\n",
    "\n",
    "def image_augmentation(file_path):\n",
    "    thresh = adaptive_mean_threshold(file_path)\n",
    "    flip_param = iaa.Fliplr(p = 1.0)\n",
    "    thresh_hflip = flip_param.augment_image(thresh)\n",
    "\n",
    "    vflip_param = iaa.Flipud(p = 1.0)\n",
    "    thresh_vflip = vflip_param.augment_image(thresh)\n",
    "\n",
    "    rot_param = iaa.Affine(rotate=(-60, 20))\n",
    "    thresh_rot = rot_param.augment_image(thresh)\n",
    "\n",
    "    crop_param = iaa.Crop(percent = (0, 0.3))\n",
    "    thresh_crop = crop_param.augment_image(thresh)\n",
    "\n",
    "    noise_param = iaa.AdditiveGaussianNoise(10, 40)\n",
    "    thresh_noise = noise_param.augment_image(thresh)\n",
    "\n",
    "    zoom_param = iaa.Affine(scale=(1.0, 1.5))  # Zoom in by 50%\n",
    "    thresh_zoom = zoom_param.augment_image(thresh)\n",
    "\n",
    "    return thresh, thresh_hflip, thresh_vflip, thresh_rot, thresh_crop, thresh_noise, thresh_zoom\n",
    "\n",
    "def augment_combo(file_path, image, annotations):\n",
    "    thresh_normalised = Normalise_images(file_path)\n",
    "    thresh, thresh_hflip, thresh_vflip, thresh_rot, thresh_crop, thresh_noise, thresh_zoom = image_augmentation(file_path)\n",
    "    \n",
    "    annotations_for_image = [annotation for annotation in samples['annotations'] if annotation['image_id'] == image_id]\n",
    "    \n",
    "    return thresh_normalised"
   ]
  }
 ],
 "metadata": {
  "kernelspec": {
   "display_name": "Python 3",
   "language": "python",
   "name": "python3"
  },
  "language_info": {
   "codemirror_mode": {
    "name": "ipython",
    "version": 3
   },
   "file_extension": ".py",
   "mimetype": "text/x-python",
   "name": "python",
   "nbconvert_exporter": "python",
   "pygments_lexer": "ipython3",
   "version": "3.8.10"
  }
 },
 "nbformat": 4,
 "nbformat_minor": 2
}
